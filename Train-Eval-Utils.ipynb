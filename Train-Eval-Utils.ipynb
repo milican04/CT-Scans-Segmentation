{
 "cells": [
  {
   "cell_type": "code",
   "execution_count": 10,
   "id": "128c955e",
   "metadata": {},
   "outputs": [],
   "source": [
    "import torch\n",
    "\n",
    "from copy import deepcopy\n",
    "from matplotlib import pyplot as plt"
   ]
  },
  {
   "cell_type": "code",
   "execution_count": 5,
   "id": "d2c5ce59",
   "metadata": {},
   "outputs": [],
   "source": [
    "def train(model, loader):\n",
    "    running_loss = 0.\n",
    "    \n",
    "    model.train()\n",
    "    for images, masks in loader:\n",
    "        images = images.to(device)\n",
    "        masks = masks.to(device)\n",
    "        \n",
    "        optimizer.zero_grad() \n",
    "        outputs = model(images)\n",
    "        loss = criterion(outputs, masks)\n",
    "        \n",
    "        loss.backward()\n",
    "        optimizer.step()\n",
    "        \n",
    "        running_loss += loss.item()\n",
    "        \n",
    "    return running_loss / len(loader)"
   ]
  },
  {
   "cell_type": "code",
   "execution_count": 7,
   "id": "537f635d",
   "metadata": {},
   "outputs": [],
   "source": [
    "def evaluate(model, loader):\n",
    "    running_loss = 0.\n",
    "    \n",
    "    model.eval()\n",
    "    with torch.no_grad():\n",
    "        for images, masks in loader:\n",
    "            images = images.to(device)\n",
    "            masks = masks.to(device)\n",
    "            \n",
    "            outputs = model(images)\n",
    "            loss = criterion(outputs, masks)\n",
    "            \n",
    "            running_loss += loss.item()\n",
    "            \n",
    "    return running_loss / len(loader)"
   ]
  },
  {
   "cell_type": "code",
   "execution_count": 3,
   "id": "ece96ece",
   "metadata": {},
   "outputs": [],
   "source": [
    "def train_loop_with_validation(model, num_epoch, train_loader, val_loader):\n",
    "    best_model, best_loss = None, float('inf')\n",
    "    \n",
    "    train_losses, val_losses = [], []\n",
    "\n",
    "    for epoch in range(num_epoch):\n",
    "        print(f\"Epoch {epoch + 1}/{num_epoch} started...\")\n",
    "\n",
    "        train_loss = train(model, train_loader)\n",
    "        validation_loss = evaluate(model, val_loader)\n",
    "\n",
    "        if validation_loss < best_loss:\n",
    "            best_loss = validation_loss\n",
    "            best_model = deepcopy(model)\n",
    "            \n",
    "        train_losses.append(train_loss)\n",
    "        val_losses.append(validation_loss)\n",
    "\n",
    "        print(f'Training loss: {train_loss}')\n",
    "        print(f'Validation loss: {validation_loss}')\n",
    "        print('...........................................')\n",
    "        \n",
    "    plt.plot(range(num_epoch), train_losses, label='Train loss')\n",
    "    plt.plot(range(num_epoch), val_losses, label='Validation loss')\n",
    "    plt.legend()\n",
    "    plt.show()\n",
    "        \n",
    "    return best_model, best_loss"
   ]
  },
  {
   "cell_type": "code",
   "execution_count": 4,
   "id": "68907273",
   "metadata": {},
   "outputs": [],
   "source": [
    "def train_loop(model, num_epoch, loader):\n",
    "    best_model, best_loss = None, float('inf')\n",
    "    \n",
    "    train_losses = []\n",
    "\n",
    "    for epoch in range(num_epoch):\n",
    "        print(f\"Epoch {epoch + 1}/{num_epoch} started...\")\n",
    "\n",
    "        train_loss = train(model, train_loader)\n",
    "\n",
    "        if train_loss < best_loss:\n",
    "            best_loss = train_loss\n",
    "            best_model = deepcopy(model)\n",
    "            \n",
    "        train_losses.append(train_loss)\n",
    "\n",
    "        print(f'Training loss: {train_loss}')\n",
    "        print('...........................................')\n",
    "        \n",
    "    plt.plot(range(num_epoch), train_losses, label='Train loss')\n",
    "    plt.legend()\n",
    "    plt.show()\n",
    "        \n",
    "    return best_model, best_loss"
   ]
  }
 ],
 "metadata": {
  "kernelspec": {
   "display_name": "Python 3 (ipykernel)",
   "language": "python",
   "name": "python3"
  },
  "language_info": {
   "codemirror_mode": {
    "name": "ipython",
    "version": 3
   },
   "file_extension": ".py",
   "mimetype": "text/x-python",
   "name": "python",
   "nbconvert_exporter": "python",
   "pygments_lexer": "ipython3",
   "version": "3.11.2"
  }
 },
 "nbformat": 4,
 "nbformat_minor": 5
}
