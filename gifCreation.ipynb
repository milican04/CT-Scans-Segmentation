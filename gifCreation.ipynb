{
 "cells": [
  {
   "cell_type": "code",
   "execution_count": 39,
   "id": "945acff2-e8a8-4516-8136-d8515d9ac9ce",
   "metadata": {},
   "outputs": [],
   "source": [
    "import glob\n",
    "import torch\n",
    "\n",
    "from PIL import Image\n",
    "import torchvision.transforms as transforms\n",
    "from torch.utils.data import DataLoader"
   ]
  },
  {
   "cell_type": "code",
   "execution_count": 43,
   "id": "db08857a-a692-4eed-92e5-b6bc82a3164c",
   "metadata": {},
   "outputs": [],
   "source": [
    "%run Data-Preprocessing.ipynb\n",
    "%run U-Net.ipynb\n",
    "%run ../Train-Eval-Utils.ipynb"
   ]
  },
  {
   "cell_type": "markdown",
   "id": "536276ea-9cf7-45f0-8b61-2fa2cbab2d63",
   "metadata": {},
   "source": [
    "Load model:"
   ]
  },
  {
   "cell_type": "code",
   "execution_count": 49,
   "id": "5dcfdefe-d2ed-442a-a90a-cd576dc9cb01",
   "metadata": {},
   "outputs": [
    {
     "data": {
      "text/plain": [
       "UNet(\n",
       "  (down_blocks): ModuleList(\n",
       "    (0): _DoubleConv(\n",
       "      (conv): Sequential(\n",
       "        (0): Conv2d(3, 16, kernel_size=(3, 3), stride=(1, 1), padding=(1, 1))\n",
       "        (1): ReLU(inplace=True)\n",
       "        (2): BatchNorm2d(16, eps=1e-05, momentum=0.1, affine=True, track_running_stats=True)\n",
       "        (3): Conv2d(16, 16, kernel_size=(3, 3), stride=(1, 1), padding=(1, 1))\n",
       "        (4): ReLU(inplace=True)\n",
       "        (5): BatchNorm2d(16, eps=1e-05, momentum=0.1, affine=True, track_running_stats=True)\n",
       "      )\n",
       "    )\n",
       "    (1): _DownConv(\n",
       "      (down): Sequential(\n",
       "        (0): MaxPool2d(kernel_size=2, stride=2, padding=0, dilation=1, ceil_mode=False)\n",
       "        (1): _DoubleConv(\n",
       "          (conv): Sequential(\n",
       "            (0): Conv2d(16, 32, kernel_size=(3, 3), stride=(1, 1), padding=(1, 1))\n",
       "            (1): ReLU(inplace=True)\n",
       "            (2): BatchNorm2d(32, eps=1e-05, momentum=0.1, affine=True, track_running_stats=True)\n",
       "            (3): Conv2d(32, 32, kernel_size=(3, 3), stride=(1, 1), padding=(1, 1))\n",
       "            (4): ReLU(inplace=True)\n",
       "            (5): BatchNorm2d(32, eps=1e-05, momentum=0.1, affine=True, track_running_stats=True)\n",
       "          )\n",
       "        )\n",
       "      )\n",
       "    )\n",
       "    (2): _DownConv(\n",
       "      (down): Sequential(\n",
       "        (0): MaxPool2d(kernel_size=2, stride=2, padding=0, dilation=1, ceil_mode=False)\n",
       "        (1): _DoubleConv(\n",
       "          (conv): Sequential(\n",
       "            (0): Conv2d(32, 64, kernel_size=(3, 3), stride=(1, 1), padding=(1, 1))\n",
       "            (1): ReLU(inplace=True)\n",
       "            (2): BatchNorm2d(64, eps=1e-05, momentum=0.1, affine=True, track_running_stats=True)\n",
       "            (3): Conv2d(64, 64, kernel_size=(3, 3), stride=(1, 1), padding=(1, 1))\n",
       "            (4): ReLU(inplace=True)\n",
       "            (5): BatchNorm2d(64, eps=1e-05, momentum=0.1, affine=True, track_running_stats=True)\n",
       "          )\n",
       "        )\n",
       "      )\n",
       "    )\n",
       "  )\n",
       "  (up_blocks): ModuleList(\n",
       "    (0): _UpSample(\n",
       "      (up): Upsample(scale_factor=2.0, mode='bilinear')\n",
       "      (double_conv): _DoubleConv(\n",
       "        (conv): Sequential(\n",
       "          (0): Conv2d(96, 32, kernel_size=(3, 3), stride=(1, 1), padding=(1, 1))\n",
       "          (1): ReLU(inplace=True)\n",
       "          (2): BatchNorm2d(32, eps=1e-05, momentum=0.1, affine=True, track_running_stats=True)\n",
       "          (3): Conv2d(32, 32, kernel_size=(3, 3), stride=(1, 1), padding=(1, 1))\n",
       "          (4): ReLU(inplace=True)\n",
       "          (5): BatchNorm2d(32, eps=1e-05, momentum=0.1, affine=True, track_running_stats=True)\n",
       "        )\n",
       "      )\n",
       "    )\n",
       "    (1): _UpSample(\n",
       "      (up): Upsample(scale_factor=2.0, mode='bilinear')\n",
       "      (double_conv): _DoubleConv(\n",
       "        (conv): Sequential(\n",
       "          (0): Conv2d(48, 16, kernel_size=(3, 3), stride=(1, 1), padding=(1, 1))\n",
       "          (1): ReLU(inplace=True)\n",
       "          (2): BatchNorm2d(16, eps=1e-05, momentum=0.1, affine=True, track_running_stats=True)\n",
       "          (3): Conv2d(16, 16, kernel_size=(3, 3), stride=(1, 1), padding=(1, 1))\n",
       "          (4): ReLU(inplace=True)\n",
       "          (5): BatchNorm2d(16, eps=1e-05, momentum=0.1, affine=True, track_running_stats=True)\n",
       "        )\n",
       "      )\n",
       "    )\n",
       "    (2): Conv2d(16, 1, kernel_size=(1, 1), stride=(1, 1))\n",
       "  )\n",
       ")"
      ]
     },
     "execution_count": 49,
     "metadata": {},
     "output_type": "execute_result"
    }
   ],
   "source": [
    "model = UNet(depth=3, in_channel=3)\n",
    "model.load_state_dict(torch.load('models/modelLungsMultiSlices.pth'))\n",
    "model.eval()"
   ]
  },
  {
   "cell_type": "markdown",
   "id": "ad4a8003-94ac-4697-8e09-71ce191f8332",
   "metadata": {},
   "source": [
    "Load data for one scan an create loader (we assuming that slices are alredy provided):"
   ]
  },
  {
   "cell_type": "code",
   "execution_count": 32,
   "id": "5dee8f67-e99b-403c-99fd-1d8f253910b9",
   "metadata": {},
   "outputs": [],
   "source": [
    "test_dir = 'testScan'"
   ]
  },
  {
   "cell_type": "code",
   "execution_count": 35,
   "id": "5385ef26-a917-4be0-b8bd-a46b8d12427f",
   "metadata": {},
   "outputs": [],
   "source": [
    "convert_ct_scan_to_slices(\"lung_001.nii.gz\", target_dir = test_dir+'/images', normalize=True)"
   ]
  },
  {
   "cell_type": "code",
   "execution_count": 37,
   "id": "96352da7-bd82-48d0-9e68-8456b70ec903",
   "metadata": {},
   "outputs": [],
   "source": [
    "convert_ct_scan_to_slices(\"lungLabel_001.nii.gz\", target_dir = test_dir+'/labels', normalize=False)"
   ]
  },
  {
   "cell_type": "code",
   "execution_count": 40,
   "id": "9c1b1fc4-4b76-48d0-ae54-9634dcdd4d44",
   "metadata": {},
   "outputs": [],
   "source": [
    "transform = transforms.Compose([\n",
    "    transforms.Resize((128, 128), antialias=False),\n",
    "    transforms.ConvertImageDtype(torch.float)\n",
    "])\n",
    "\n",
    "test_dataset = CTDatasetMultiSlices(root_dir=test_dir, image_transform=transform, label_transform=transform)\n",
    "test_loader = DataLoader(test_dataset, batch_size=32, shuffle=True, num_workers=os.cpu_count())"
   ]
  },
  {
   "cell_type": "code",
   "execution_count": 56,
   "id": "8d97c57e-64d3-4535-8b85-ab08137f9ebe",
   "metadata": {},
   "outputs": [],
   "source": [
    "model.eval()\n",
    "with torch.no_grad():\n",
    "    for images, masks in test_loader:\n",
    "        outputs = model(images)"
   ]
  },
  {
   "cell_type": "code",
   "execution_count": 57,
   "id": "e4a1d19d-1829-4ba2-9977-21d6c1780399",
   "metadata": {},
   "outputs": [
    {
     "data": {
      "text/plain": [
       "tensor([[[[2.2354e-06, 1.0096e-07, 1.2180e-07,  ..., 2.2341e-07,\n",
       "           2.1203e-07, 1.1844e-06],\n",
       "          [3.5825e-07, 3.4550e-08, 4.2903e-08,  ..., 1.5249e-07,\n",
       "           1.2946e-07, 1.4224e-07],\n",
       "          [1.9162e-07, 1.3935e-08, 1.6089e-08,  ..., 1.0199e-07,\n",
       "           1.0170e-07, 1.1693e-07],\n",
       "          ...,\n",
       "          [2.8563e-07, 2.2321e-08, 2.7657e-08,  ..., 5.6698e-08,\n",
       "           7.6134e-08, 6.5649e-08],\n",
       "          [4.5893e-07, 4.5181e-08, 4.6478e-08,  ..., 1.4932e-07,\n",
       "           1.7764e-07, 1.1673e-07],\n",
       "          [9.5646e-07, 7.7654e-08, 6.4452e-08,  ..., 1.0287e-07,\n",
       "           1.3066e-07, 5.4609e-07]]],\n",
       "\n",
       "\n",
       "        [[[2.2499e-06, 1.0145e-07, 1.1836e-07,  ..., 2.1626e-07,\n",
       "           2.0000e-07, 1.2400e-06],\n",
       "          [3.6324e-07, 3.5633e-08, 4.1644e-08,  ..., 1.4491e-07,\n",
       "           1.0612e-07, 1.4491e-07],\n",
       "          [1.9445e-07, 1.4675e-08, 1.6697e-08,  ..., 1.0317e-07,\n",
       "           8.4706e-08, 1.2153e-07],\n",
       "          ...,\n",
       "          [2.4512e-07, 2.1216e-08, 2.8572e-08,  ..., 5.8850e-08,\n",
       "           7.7840e-08, 7.1300e-08],\n",
       "          [4.2262e-07, 4.5271e-08, 4.9998e-08,  ..., 1.5182e-07,\n",
       "           1.4425e-07, 1.2328e-07],\n",
       "          [9.4956e-07, 7.9735e-08, 7.1340e-08,  ..., 9.9678e-08,\n",
       "           1.2579e-07, 5.2445e-07]]],\n",
       "\n",
       "\n",
       "        [[[2.3172e-06, 1.0209e-07, 1.1928e-07,  ..., 2.2556e-07,\n",
       "           2.0782e-07, 1.1831e-06],\n",
       "          [3.7410e-07, 3.2834e-08, 3.9428e-08,  ..., 1.4495e-07,\n",
       "           1.2147e-07, 1.4212e-07],\n",
       "          [2.0318e-07, 1.4222e-08, 1.7190e-08,  ..., 9.4980e-08,\n",
       "           9.2814e-08, 1.2136e-07],\n",
       "          ...,\n",
       "          [2.6379e-07, 2.2427e-08, 3.0198e-08,  ..., 6.1806e-08,\n",
       "           7.4138e-08, 7.3496e-08],\n",
       "          [4.4628e-07, 4.9536e-08, 5.6466e-08,  ..., 1.6678e-07,\n",
       "           1.6664e-07, 1.1133e-07],\n",
       "          [9.4589e-07, 8.2000e-08, 7.2228e-08,  ..., 1.2091e-07,\n",
       "           1.4111e-07, 5.2057e-07]]],\n",
       "\n",
       "\n",
       "        ...,\n",
       "\n",
       "\n",
       "        [[[2.2995e-06, 1.0186e-07, 1.2045e-07,  ..., 2.2344e-07,\n",
       "           2.0624e-07, 1.2108e-06],\n",
       "          [3.7262e-07, 3.2791e-08, 3.9194e-08,  ..., 1.4525e-07,\n",
       "           1.1233e-07, 1.4482e-07],\n",
       "          [2.0802e-07, 1.4153e-08, 1.7307e-08,  ..., 9.8252e-08,\n",
       "           8.6554e-08, 1.1945e-07],\n",
       "          ...,\n",
       "          [2.9169e-07, 2.3333e-08, 2.9435e-08,  ..., 6.0249e-08,\n",
       "           8.9441e-08, 7.5786e-08],\n",
       "          [4.4778e-07, 4.7375e-08, 5.7771e-08,  ..., 1.6984e-07,\n",
       "           1.5437e-07, 1.1635e-07],\n",
       "          [9.7430e-07, 8.1051e-08, 7.7843e-08,  ..., 1.1455e-07,\n",
       "           1.3667e-07, 5.5845e-07]]],\n",
       "\n",
       "\n",
       "        [[[2.2790e-06, 1.0189e-07, 1.1885e-07,  ..., 2.2119e-07,\n",
       "           2.1457e-07, 1.2274e-06],\n",
       "          [3.6226e-07, 3.2974e-08, 3.9128e-08,  ..., 1.4388e-07,\n",
       "           1.2266e-07, 1.4401e-07],\n",
       "          [2.0683e-07, 1.4408e-08, 1.5431e-08,  ..., 1.0424e-07,\n",
       "           1.0209e-07, 1.2221e-07],\n",
       "          ...,\n",
       "          [2.6531e-07, 2.4600e-08, 2.8677e-08,  ..., 6.6781e-08,\n",
       "           8.5067e-08, 7.2809e-08],\n",
       "          [4.1041e-07, 4.7978e-08, 5.1742e-08,  ..., 1.5078e-07,\n",
       "           1.4680e-07, 1.1732e-07],\n",
       "          [9.2243e-07, 8.3272e-08, 7.6261e-08,  ..., 1.0795e-07,\n",
       "           1.3711e-07, 5.5598e-07]]],\n",
       "\n",
       "\n",
       "        [[[2.2651e-06, 9.9965e-08, 1.2177e-07,  ..., 2.2744e-07,\n",
       "           2.0977e-07, 1.2244e-06],\n",
       "          [3.7081e-07, 3.4066e-08, 4.0700e-08,  ..., 1.4153e-07,\n",
       "           1.1405e-07, 1.3872e-07],\n",
       "          [2.0665e-07, 1.5036e-08, 1.6954e-08,  ..., 1.0745e-07,\n",
       "           1.0029e-07, 1.1866e-07],\n",
       "          ...,\n",
       "          [2.5994e-07, 2.1226e-08, 2.4490e-08,  ..., 8.7947e-08,\n",
       "           9.6417e-08, 7.5508e-08],\n",
       "          [4.1016e-07, 4.9870e-08, 5.4842e-08,  ..., 1.2385e-07,\n",
       "           1.4093e-07, 1.1466e-07],\n",
       "          [8.9915e-07, 8.0659e-08, 7.4138e-08,  ..., 1.0590e-07,\n",
       "           1.3053e-07, 5.4037e-07]]]])"
      ]
     },
     "execution_count": 57,
     "metadata": {},
     "output_type": "execute_result"
    }
   ],
   "source": [
    "# outputs"
   ]
  },
  {
   "cell_type": "code",
   "execution_count": 62,
   "id": "6a3d59c7-03b0-4468-b471-1e29fc888c2a",
   "metadata": {},
   "outputs": [],
   "source": [
    "createGifFromModelOutputs(outputs, \"model_output_animation\")"
   ]
  },
  {
   "cell_type": "code",
   "execution_count": 75,
   "id": "79da08f5-4290-4207-98aa-9429f5d97dfa",
   "metadata": {},
   "outputs": [],
   "source": [
    "folder_path = test_dir + '/images/'\n",
    "\n",
    "# Get a list of all files in the folder that start with '1_'\n",
    "file_names = [folder_path + f for f in os.listdir(folder_path) if f.endswith('.png')]\n",
    "\n",
    "# Sort filenames to ensure correct order (optional, depending on naming convention)\n",
    "file_names = sorted(file_names, key=numerical_sort)\n",
    "# file_names\n",
    "\n",
    "createGifFromSlices(paths = file_names, gif_name = 'scan1')"
   ]
  },
  {
   "cell_type": "code",
   "execution_count": 76,
   "id": "4a57da2f-5b17-4020-a092-2022ebdfbbd5",
   "metadata": {},
   "outputs": [],
   "source": [
    "folder_path = test_dir + '/labels/'\n",
    "\n",
    "# Get a list of all files in the folder that start with '1_'\n",
    "file_names = [folder_path + f for f in os.listdir(folder_path) if f.endswith('.png')]\n",
    "\n",
    "# Sort filenames to ensure correct order (optional, depending on naming convention)\n",
    "file_names = sorted(file_names, key=numerical_sort)\n",
    "# file_names\n",
    "\n",
    "createGifFromSlices(paths = file_names, gif_name = 'scan2')"
   ]
  },
  {
   "cell_type": "code",
   "execution_count": null,
   "id": "d40ba2a8-46a0-450d-bf74-58deee6eb259",
   "metadata": {},
   "outputs": [],
   "source": []
  }
 ],
 "metadata": {
  "kernelspec": {
   "display_name": "Python 3 (ipykernel)",
   "language": "python",
   "name": "python3"
  },
  "language_info": {
   "codemirror_mode": {
    "name": "ipython",
    "version": 3
   },
   "file_extension": ".py",
   "mimetype": "text/x-python",
   "name": "python",
   "nbconvert_exporter": "python",
   "pygments_lexer": "ipython3",
   "version": "3.10.12"
  }
 },
 "nbformat": 4,
 "nbformat_minor": 5
}
