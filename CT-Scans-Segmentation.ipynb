{
 "cells": [
  {
   "cell_type": "markdown",
   "id": "pleased-thanksgiving",
   "metadata": {},
   "source": [
    "# Segmentation of Lung CT scans"
   ]
  },
  {
   "cell_type": "markdown",
   "id": "comparative-prospect",
   "metadata": {},
   "source": [
    "Data used in project can be downloaded via following link: http://medicaldecathlon.com/"
   ]
  },
  {
   "cell_type": "markdown",
   "id": "hindu-american",
   "metadata": {},
   "source": [
    "## Intorduction"
   ]
  },
  {
   "cell_type": "markdown",
   "id": "attempted-arrangement",
   "metadata": {},
   "source": [
    "The idea of this project is to take input data in the form of a CT scan of the lungs, create and train a model which will do their segmentation and find abnormalities if they exist."
   ]
  },
  {
   "cell_type": "markdown",
   "id": "current-synthesis",
   "metadata": {},
   "source": [
    "The typical use of convolutional neural networks is on classification tasks, where the output of an image is a single class label. In the problem that we are considering, we definitely should classify CT scans, but we also need to locate abnormalities if they exist. To do that, it is necessary to assign a label to each pixel of the CT scan. Of course, we are going to have two labels: normal and abnormal. All pixels that are classified as abnormal, together construct the abnormality of the considering lungs."
   ]
  },
  {
   "cell_type": "markdown",
   "id": "nutritional-sailing",
   "metadata": {},
   "source": [
    "The model will be a convolutional neural network based on the U-net architecture."
   ]
  },
  {
   "cell_type": "markdown",
   "id": "tamil-pledge",
   "metadata": {},
   "source": [
    "#### What is U-net architecture and why we are going to use it?"
   ]
  },
  {
   "cell_type": "markdown",
   "id": "centered-fence",
   "metadata": {},
   "source": [
    "The U-net architecture, the so-called \"fully convolutional network,\" was designed in 2015. for the segmentation of biomedical images. U-Net has been successfully used in numerous studies and clinical applications for CT scan segmentation. \n",
    "\n",
    "It has a symetric structure in the shape of the letter U, and it consists of two main parts: the contracting path (coder) and the expansive path (decoder). This symmetric design of U-Net ensures a balanced extraction and reconstruction of features, leading to more accurate segmentation, which will be very useful considering the complex lung structures."
   ]
  },
  {
   "cell_type": "markdown",
   "id": "65b49b6c-c744-43f2-a112-0eefd782c615",
   "metadata": {},
   "source": [
    "## Libraries"
   ]
  },
  {
   "cell_type": "code",
   "execution_count": 18,
   "id": "1b5ed27d-523c-478c-9bf0-7c42f1d75df4",
   "metadata": {
    "scrolled": true
   },
   "outputs": [],
   "source": [
    "import os\n",
    "import random\n",
    "import json\n",
    "\n",
    "import numpy as np\n",
    "import nibabel as nib\n",
    "from matplotlib import pyplot as plt\n",
    "\n",
    "import torch\n",
    "import torch.nn as nn\n",
    "import torch.nn.functional as F\n",
    "import torchvision.transforms as transforms\n",
    "from torchvision.transforms.functional import resize\n",
    "from torch.utils.data import DataLoader, Dataset\n",
    "from torchvision.io import read_image\n",
    "\n",
    "from tqdm import tqdm \n",
    "from PIL import Image"
   ]
  },
  {
   "cell_type": "markdown",
   "id": "worthy-helmet",
   "metadata": {},
   "source": [
    "## Data Load and Preproccessing"
   ]
  },
  {
   "cell_type": "code",
   "execution_count": 19,
   "id": "b20b75c4",
   "metadata": {},
   "outputs": [],
   "source": [
    "def ct_to_slices(path):\n",
    "    data = nib.load(path).get_fdata()\n",
    "    [_, _, slices] = data.shape\n",
    "    \n",
    "    return [data[..., slice] for slice in range(slices)]"
   ]
  },
  {
   "cell_type": "code",
   "execution_count": 20,
   "id": "40a51e33",
   "metadata": {},
   "outputs": [],
   "source": [
    "def calc_hounsfield(slices):\n",
    "    hounsfield_min = min([np.min(slice) for slice in slices])\n",
    "    hounsfield_max = max([np.max(slice) for slice in slices])\n",
    "    \n",
    "    return hounsfield_min, hounsfield_max"
   ]
  },
  {
   "cell_type": "code",
   "execution_count": 21,
   "id": "ff35b484",
   "metadata": {},
   "outputs": [],
   "source": [
    "def normalize_slice(slice, hounsfield_min, hounsfield_max):\n",
    "    slice[slice < hounsfield_min] = hounsfield_min\n",
    "    slice[slice > hounsfield_max] = hounsfield_max\n",
    "    slice = (slice - hounsfield_min) / (hounsfield_max - hounsfield_min)\n",
    "    \n",
    "    return slice"
   ]
  },
  {
   "cell_type": "code",
   "execution_count": 136,
   "id": "35894145-8f62-4834-a3c6-66688cf4e1e2",
   "metadata": {},
   "outputs": [],
   "source": [
    "# downsampling_rate = n - on average keep every n-th slice with no labeled tumors\n",
    "\n",
    "def convert_ct_dataset_to_slices(dataset_dir, output_dir, downsampling_rate=1):\n",
    "    os.mkdir(output_dir)\n",
    "    \n",
    "    images_dir = os.path.join(output_dir, 'images')\n",
    "    labels_dir = os.path.join(output_dir, 'labels')\n",
    "    os.mkdir(images_dir)\n",
    "    os.mkdir(labels_dir)\n",
    "    \n",
    "    image_paths = None\n",
    "    label_paths = None\n",
    "    \n",
    "    with open(os.path.join(dataset_dir, 'dataset.json'), 'r') as dataset_info:\n",
    "        data = json.load(dataset_info)\n",
    "        image_paths = [os.path.join(dataset_dir, scan['image']) for scan in data['training']]\n",
    "        label_paths = [os.path.join(dataset_dir, scan['label']) for scan in data['training']]\n",
    "        \n",
    "    for i in range(len(label_paths)):\n",
    "        label_path = label_paths[i]\n",
    "        image_path = image_paths[i]\n",
    "        \n",
    "        label_slices = ct_to_slices(label_path)\n",
    "        image_slices = ct_to_slices(image_path)\n",
    "        \n",
    "        hounsfield_min, hounsfield_max = calc_hounsfield(image_slices)\n",
    "        \n",
    "        for j in range(len(label_slices)):\n",
    "            label_slice = label_slices[j]\n",
    "            image_slice = image_slices[j]\n",
    "            \n",
    "            # Check if the slice contains any traces of tumors\n",
    "            if 1.0 not in label_slice and random.random() > 1 / downsampling_rate:\n",
    "                continue\n",
    "                \n",
    "            label_slice = label_slice * 255\n",
    "            image_slice = normalize_slice(image_slice, hounsfield_min, hounsfield_max) * 255\n",
    "            \n",
    "            Image.fromarray(label_slice).convert('L').save(os.path.join(labels_dir, f'{i + 1}_{j + 1}.png'))\n",
    "            Image.fromarray(image_slice).convert('L').save(os.path.join(images_dir, f'{i + 1}_{j + 1}.png'))"
   ]
  },
  {
   "cell_type": "code",
   "execution_count": 54,
   "id": "b5d449fd-0af3-489c-befc-6ff634e37a88",
   "metadata": {},
   "outputs": [],
   "source": [
    "#def convert_ct_dataset_to_slices(input_dir, output_dir):\n",
    "    # # mozda bolje ovako:\n",
    "    # # Check if the directory exists\n",
    "    # if os.path.exists(output_dir):\n",
    "    #     # Remove all contents of the directory\n",
    "    #     shutil.rmtree(output_dir)\n",
    "    \n",
    "    # # Create the directory again, now empty\n",
    "    # os.makedirs(output_dir)\n",
    "\n",
    "#    os.makedirs(output_dir, exist_ok=True)\n",
    "#    image_paths = next(os.walk(input_dir))[2]\n",
    "#    image_paths = [input_dir + \"/\" + file for file in image_paths if not file.startswith('.')]\n",
    "            \n",
    "#    for (i, path) in enumerate(image_paths):\n",
    "#        slices = ct_to_slices(path)\n",
    "#        hounsfield_min, hounsfield_max = calc_hounsfield(slices)\n",
    "#        for (j, slice) in enumerate(ct_to_slices(path)):\n",
    "            # Normalize the slice from the Hounsfield scale\n",
    "#            slice = normalize_slice(slice, hounsfield_min, hounsfield_max) * 255\n",
    "            # Convert to PIL Image in grayscale mode\n",
    "#            img = Image.fromarray(slice).convert('L')\n",
    "#            img.save(os.path.join(output_dir, f'{i + 1}_{j + 1}.png'))"
   ]
  },
  {
   "cell_type": "code",
   "execution_count": 137,
   "id": "648c7328",
   "metadata": {},
   "outputs": [],
   "source": [
    "def train_val_split(sliced_dataset_dir, train_dataset_dir, validation_dataset_dir, val_split=0.2):\n",
    "    images_dir = os.path.join(sliced_dataset_dir, 'images')\n",
    "    labels_dir = os.path.join(sliced_dataset_dir, 'labels')\n",
    "    \n",
    "    image_paths = next(os.walk(images_dir))[2]\n",
    "    scan_ids = set([path.split('_')[0] for path in image_paths])\n",
    "    \n",
    "    num_val = int(len(scan_ids) * val_split)\n",
    "    \n",
    "    validation_scans = set(random.sample(sorted(scan_ids), num_val))\n",
    "    \n",
    "    train_images_dir = os.path.join(train_dataset_dir, 'images')\n",
    "    train_labels_dir = os.path.join(train_dataset_dir, 'labels')\n",
    "    \n",
    "    val_images_dir = os.path.join(validation_dataset_dir, 'images')\n",
    "    val_labels_dir = os.path.join(validation_dataset_dir, 'labels')\n",
    "    \n",
    "    os.makedirs(train_images_dir)\n",
    "    os.makedirs(train_labels_dir)\n",
    "    \n",
    "    os.makedirs(val_images_dir)\n",
    "    os.makedirs(val_labels_dir)\n",
    "    \n",
    "    for path in image_paths:\n",
    "        scan_id = path.split('_')[0]\n",
    "        if scan_id in validation_scans:\n",
    "            os.rename(os.path.join(images_dir, path), os.path.join(val_images_dir, path))\n",
    "            os.rename(os.path.join(labels_dir, path), os.path.join(val_labels_dir, path))\n",
    "        else:\n",
    "            os.rename(os.path.join(images_dir, path), os.path.join(train_images_dir, path))\n",
    "            os.rename(os.path.join(labels_dir, path), os.path.join(train_labels_dir, path))"
   ]
  },
  {
   "cell_type": "code",
   "execution_count": 138,
   "id": "c2b965ae-d319-4f27-847d-064d47e8b4ee",
   "metadata": {},
   "outputs": [],
   "source": [
    "ORIGINAL_DATA = 'Task06_Lung'\n",
    "SLICED_DATA = 'Task06_Lung_Sliced'\n",
    "TRAIN_DATA = SLICED_DATA + '_Train'\n",
    "VALIDATION_DATA = SLICED_DATA + '_Validation'"
   ]
  },
  {
   "cell_type": "code",
   "execution_count": null,
   "id": "c9ee2207",
   "metadata": {},
   "outputs": [],
   "source": [
    "convert_ct_dataset_to_slices('Task06_Lung', 'Task06_Lung_Sliced', downsampling_rate=10)"
   ]
  },
  {
   "cell_type": "code",
   "execution_count": null,
   "id": "03164659",
   "metadata": {},
   "outputs": [],
   "source": [
    "train_val_split(SLICED_DATA, SLICED_DATA + '_Train', SLICED_DATA + '_Validation')"
   ]
  },
  {
   "cell_type": "markdown",
   "id": "ace483db-ae8d-4efd-97d0-d37aee7e2821",
   "metadata": {},
   "source": [
    "### Clicing 3D scans into 2D images "
   ]
  },
  {
   "cell_type": "code",
   "execution_count": 48,
   "id": "4bf933d1-51f9-47b7-96b3-cdf2f78087d2",
   "metadata": {
    "scrolled": true
   },
   "outputs": [
    {
     "name": "stdout",
     "output_type": "stream",
     "text": [
      "Image size (width, height): (512, 512)\n",
      "Number of channels: 1\n"
     ]
    }
   ],
   "source": [
    "# load first image\n",
    "image1_1 = read_image('Task06_Lung_Sliced/imagesTr/1_1.png').float() \n",
    "\n",
    "print(f\"Image size (width, height): {image1_1.shape[1], image1_1.shape[2]}\")\n",
    "num_channels = image1_1.shape[0]\n",
    "print(f\"Number of channels: {num_channels}\")"
   ]
  },
  {
   "cell_type": "markdown",
   "id": "c73c1689-f80e-446b-abbe-3f48a43509f9",
   "metadata": {},
   "source": [
    "Before we load the data into the training set, we will need to downsize the images as previous size is too large!"
   ]
  },
  {
   "cell_type": "code",
   "execution_count": 49,
   "id": "6e5f6674-4f2e-4064-a2ea-e1aaf0a0dbe4",
   "metadata": {},
   "outputs": [],
   "source": [
    "IMG_WIDTH = 128\n",
    "IMG_HEIGHT = 128\n",
    "IMG_CHANNELS = num_channels\n",
    "\n",
    "TRAIN_IDS = next(os.walk(IMAGES_TR_PATH))[2]\n",
    "# print(TRAIN_IDS)"
   ]
  },
  {
   "cell_type": "markdown",
   "id": "f33f97d2-0fee-4e8d-a5f6-ca240ddc9f98",
   "metadata": {},
   "source": [
    "Function to load sliced images, resize them and store them into np matrix, which we will use data."
   ]
  },
  {
   "cell_type": "code",
   "execution_count": 50,
   "id": "1b4e71e2-2f83-467c-839a-b05ec72766eb",
   "metadata": {},
   "outputs": [],
   "source": [
    "# def loadAndResize(images_names, dirPath, channels, height, width):\n",
    "#     storage = np.zeros((len(images_names), channels, height, width), dtype=np.uint8)\n",
    "#     for n, id_ in tqdm(enumerate(images_names), total=len(images_names)):   \n",
    "#         # load image and resize it\n",
    "#         img = read_image(dirPath + \"/\" + id_).float()  # [C, H, W] format\n",
    "#         img = resize(img, [height, width])  # Resize the image\n",
    "        \n",
    "#         # normalize pixels\n",
    "#         img /= 255.0\n",
    "\n",
    "#         # store resized image\n",
    "#         storage[n] = img\n",
    "#     return storage"
   ]
  },
  {
   "cell_type": "markdown",
   "id": "fccad10a-7eec-404a-a6f0-4bf573ee1f16",
   "metadata": {},
   "source": [
    "### Storing data for training"
   ]
  },
  {
   "cell_type": "code",
   "execution_count": 27,
   "id": "27589ee8-4a59-4953-896b-f03ed67ebd54",
   "metadata": {},
   "outputs": [],
   "source": [
    "# ovako je samo malo opstije, da mozemo i za testu skup da iskoritimo ako bude trebalo\n",
    "class LungCTDataset(Dataset):\n",
    "    def __init__(self, image_dir, label_dir, image_transform=None, label_transform=None):\n",
    "        image_names = sorted(os.listdir(image_dir))\n",
    "        self.image_paths = [os.path.join(image_dir, image_name) for image_name in image_names]\n",
    "        \n",
    "        label_names = sorted(os.listdir(label_dir))\n",
    "        self.label_paths = [os.path.join(label_dir, label_name) for label_name in label_names]\n",
    "        \n",
    "        self.image_transform = image_transform\n",
    "        self.label_transform = label_transform\n",
    "        \n",
    "    def __len__(self):\n",
    "        return len(self.image_paths)\n",
    "    \n",
    "    def __getitem__(self, idx):\n",
    "        image = read_image(self.image_paths[idx])\n",
    "        label = read_image(self.label_paths[idx])\n",
    "        \n",
    "        if self.image_transform:\n",
    "            image = self.image_transform(image)\n",
    "        \n",
    "        if self.label_transform:\n",
    "            label = self.label_transform(label)\n",
    "            \n",
    "        return image, label"
   ]
  },
  {
   "cell_type": "code",
   "execution_count": 64,
   "id": "9f74ad43",
   "metadata": {},
   "outputs": [
    {
     "data": {
      "image/png": "[encoded data removed]",
      "text/plain": [
       "<Figure size 640x480 with 1 Axes>"
      ]
     },
     "metadata": {},
     "output_type": "display_data"
    }
   ],
   "source": [
    "# class demo\n",
    "lungs = LungCTDataset(IMAGES_TR_PATH, LABELS_TR_PATH)\n",
    "image, label = lungs.__getitem__(80)\n",
    "\n",
    "plt.imshow(image.permute(1, 2, 0).numpy(), cmap='gray')\n",
    "plt.axis('off')  # Turn off axis labels\n",
    "plt.show()"
   ]
  },
  {
   "cell_type": "code",
   "execution_count": 74,
   "id": "a2abd62d",
   "metadata": {},
   "outputs": [
    {
     "data": {
      "text/plain": [
       "torch.Size([1, 512, 512])"
      ]
     },
     "execution_count": 74,
     "metadata": {},
     "output_type": "execute_result"
    }
   ],
   "source": [
    "image.shape"
   ]
  },
  {
   "cell_type": "code",
   "execution_count": 133,
   "id": "19c8d084-2306-476d-be80-cf6e3fb43c32",
   "metadata": {},
   "outputs": [
    {
     "ename": "SyntaxError",
     "evalue": "'(' was never closed (1195684452.py, line 7)",
     "output_type": "error",
     "traceback": [
      "\u001b[0;36m  Cell \u001b[0;32mIn [133], line 7\u001b[0;36m\u001b[0m\n\u001b[0;31m    train_dataset = LungCTDataset(image_dir=os.path.join(TRAIN_DATA, label_dir=LABELS_TR_PATH, image_transform=transform, label_transform=transform)\u001b[0m\n\u001b[0m                                 ^\u001b[0m\n\u001b[0;31mSyntaxError\u001b[0m\u001b[0;31m:\u001b[0m '(' was never closed\n"
     ]
    }
   ],
   "source": [
    "transform = transforms.Compose([\n",
    "    transforms.Resize((128, 128)),\n",
    "    transforms.ConvertImageDtype(torch.float)\n",
    "])\n",
    "\n",
    "TRAIN_IMAGES = os.path.join(TRAIN_DATA, 'images')\n",
    "TRAIN_LABELS = os.path.join(TRAIN_DATA, 'labels')\n",
    "\n",
    "train_dataset = LungCTDataset(image_dir=TRAIN_IMAGES, label_dir=TRAIN_LABELS, image_transform=transform, label_transform=transform)\n",
    "train_loader = DataLoader(train_dataset, batch_size=16, shuffle=True, num_workers=os.cpu_count())\n",
    "\n",
    "VALIDATION_IMAGES = os.path.join(VALIDATION_DATA, 'images')\n",
    "VALIDATION_LABELS = os.path.join(VALIDATION_DATA, 'labels')\n",
    "\n",
    "validat_dataset = LungCTDataset(image_dir=TRAIN_IMAGES, label_dir=TRAIN_LABELS, image_transform=transform, label_transform=transform)\n",
    "train_loader = DataLoader(train_dataset, batch_size=16, shuffle=True, num_workers=os.cpu_count())"
   ]
  },
  {
   "cell_type": "markdown",
   "id": "rubber-first",
   "metadata": {},
   "source": [
    "## Model creation"
   ]
  },
  {
   "cell_type": "markdown",
   "id": "caa200f2-d090-4dd2-a821-edb70fe78fc1",
   "metadata": {},
   "source": [
    "### U-Net "
   ]
  },
  {
   "cell_type": "markdown",
   "id": "dfe42eb9-2c83-4862-ba0e-39fb3ae15134",
   "metadata": {},
   "source": [
    "<img src=\"metadata/u-net-architecture.png\" alt=\"Alt Text\" width=\"650\"/>"
   ]
  },
  {
   "cell_type": "code",
   "execution_count": 75,
   "id": "ebd7a1ef-0c6b-4535-969e-c2c204413135",
   "metadata": {},
   "outputs": [],
   "source": [
    "# ovde sam rendom stavila neke brojke koje sam nasla na netu, podesicemo posle tacno sta zelimo"
   ]
  },
  {
   "cell_type": "code",
   "execution_count": 76,
   "id": "0dec0bb3-3561-40da-973f-622b70c899d0",
   "metadata": {},
   "outputs": [],
   "source": [
    "# razlika izmedju tensorflow-a i torcha je sto ovde imamo ovu forward fju kojom definisemo \"kretanje\" izmedju slojeva, \n",
    "# nije sve u jednoj liniji kao za tensorflow\n",
    "# mozda ima i drugi nacin, ja sam nasla ovaj, ako ti se ne svidja mozemo da promenimo"
   ]
  },
  {
   "cell_type": "code",
   "execution_count": 77,
   "id": "8776cb9e-d4db-4d91-a7d0-d963a8a9fbd2",
   "metadata": {},
   "outputs": [],
   "source": [
    "# TODO: opciona funkcija za crtanje izmedju slojeva"
   ]
  },
  {
   "cell_type": "markdown",
   "id": "9e1b1d38-767f-4b10-9fed-1a51cad8179d",
   "metadata": {},
   "source": [
    "Creating U-Net architecture"
   ]
  },
  {
   "cell_type": "code",
   "execution_count": 69,
   "id": "bc331621-c2fc-44e5-9a53-e8f80d93f519",
   "metadata": {},
   "outputs": [],
   "source": [
    "class UNet(nn.Module):\n",
    "    def __init__(self):\n",
    "        super(UNet, self).__init__()\n",
    "        \n",
    "        # Coder\n",
    "        self.conv1 = nn.Conv2d(1, 16, kernel_size=3, padding=1)\n",
    "        self.conv2 = nn.Conv2d(16, 32, kernel_size=3, padding=1)\n",
    "        self.conv3 = nn.Conv2d(32, 64, kernel_size=3, padding=1)\n",
    "        self.conv4 = nn.Conv2d(64, 128, kernel_size=3, padding=1)\n",
    "        self.conv5 = nn.Conv2d(128, 256, kernel_size=3, padding=1)\n",
    "        \n",
    "        self.conv1_drop = nn.Dropout(0.1)\n",
    "        self.conv2_drop = nn.Dropout(0.1)\n",
    "        self.conv3_drop = nn.Dropout(0.2)\n",
    "        self.conv4_drop = nn.Dropout(0.2)\n",
    "        self.conv5_drop = nn.Dropout(0.3)\n",
    "        \n",
    "        # Max pooling layers\n",
    "        self.pool = nn.MaxPool2d(2, 2)\n",
    "        \n",
    "        # Decoder\n",
    "        self.upconv1 = nn.ConvTranspose2d(256, 128, kernel_size=2, stride=2)\n",
    "        self.upconv2 = nn.ConvTranspose2d(128, 64, kernel_size=2, stride=2)\n",
    "        self.upconv3 = nn.ConvTranspose2d(64, 32, kernel_size=2, stride=2)\n",
    "        self.upconv4 = nn.ConvTranspose2d(32, 16, kernel_size=2, stride=2)\n",
    "\n",
    "        self.conv6 = nn.Conv2d(256, 128, kernel_size=3, padding=1)  # Adjusted channel sizes\n",
    "        self.conv7 = nn.Conv2d(128, 64, kernel_size=3, padding=1)\n",
    "        self.conv8 = nn.Conv2d(64, 32, kernel_size=3, padding=1)\n",
    "        self.conv9 = nn.Conv2d(32, 16, kernel_size=3, padding=1)\n",
    "        \n",
    "        self.final_conv = nn.Conv2d(16, 1, kernel_size=1)\n",
    "        \n",
    "    def forward(self, x):\n",
    "        # Coder\n",
    "        c1 = F.relu(self.conv1(x))  # Shape: [batch_size, 16, 128, 128]\n",
    "        c1 = self.conv1_drop(c1)    # Apply dropout after activation\n",
    "        p1 = self.pool(c1)          # Shape: [batch_size, 16, 64, 64]\n",
    "        \n",
    "        c2 = F.relu(self.conv2(p1)) # Shape: [batch_size, 32, 64, 64]\n",
    "        c2 = self.conv2_drop(c2)    # Apply dropout after activation\n",
    "        p2 = self.pool(c2)          # Shape: [batch_size, 32, 32, 32]\n",
    "        \n",
    "        c3 = F.relu(self.conv3(p2)) # Shape: [batch_size, 64, 32, 32]\n",
    "        c3 = self.conv3_drop(c3)    # Apply dropout after activation\n",
    "        p3 = self.pool(c3)          # Shape: [batch_size, 64, 16, 16]\n",
    "        \n",
    "        c4 = F.relu(self.conv4(p3)) # Shape: [batch_size, 128, 16, 16]\n",
    "        c4 = self.conv4_drop(c4)    # Apply dropout after activation\n",
    "        p4 = self.pool(c4)          # Shape: [batch_size, 128, 8, 8]\n",
    "        \n",
    "        c5 = F.relu(self.conv5(p4)) # Shape: [batch_size, 256, 8, 8]\n",
    "        c5 = self.conv5_drop(c5)    # Apply dropout after activation\n",
    "        \n",
    "        # Decoder\n",
    "        u6 = self.upconv1(c5)       # Shape: [batch_size, 128, 16, 16]\n",
    "        u6 = torch.cat([u6, c4], dim=1) # Concatenate along channels: Shape [batch_size, 256, 16, 16]\n",
    "        c6 = F.relu(self.conv6(u6)) # Shape: [batch_size, 128, 16, 16]\n",
    "        c6 = self.conv4_drop(c6)    # Apply dropout after activation\n",
    "\n",
    "        u7 = self.upconv2(c6)       # Shape: [batch_size, 64, 32, 32]\n",
    "        u7 = torch.cat([u7, c3], dim=1) # Concatenate along channels: Shape [batch_size, 128, 32, 32]\n",
    "        c7 = F.relu(self.conv7(u7)) # Shape: [batch_size, 64, 32, 32]\n",
    "        c7 = self.conv3_drop(c7)    # Apply dropout after activation\n",
    "\n",
    "        u8 = self.upconv3(c7)       # Shape: [batch_size, 32, 64, 64]\n",
    "        u8 = torch.cat([u8, c2], dim=1) # Concatenate along channels: Shape [batch_size, 64, 64, 64]\n",
    "        c8 = F.relu(self.conv8(u8)) # Shape: [batch_size, 32, 64, 64]\n",
    "        c8 = self.conv2_drop(c8)    # Apply dropout after activation\n",
    "\n",
    "        u9 = self.upconv4(c8)       # Shape: [batch_size, 16, 128, 128]\n",
    "        u9 = torch.cat([u9, c1], dim=1) # Concatenate along channels: Shape [batch_size, 32, 128, 128]\n",
    "        c9 = F.relu(self.conv9(u9)) # Shape: [batch_size, 16, 128, 128]\n",
    "        c9 = self.conv1_drop(c9)    # Apply dropout after activation\n",
    "\n",
    "        output = torch.sigmoid(self.final_conv(c9)) # Shape: [batch_size, 1, 128, 128]\n",
    "        return output"
   ]
  },
  {
   "cell_type": "code",
   "execution_count": 78,
   "id": "49f409cf",
   "metadata": {},
   "outputs": [],
   "source": [
    "class DiceLoss(nn.Module):\n",
    "    def __init__(self, smooth=1e-6):\n",
    "        super().__init__()\n",
    "        self.smooth = smooth\n",
    "        \n",
    "    def forward(self, prediction, target):\n",
    "        prediction_f = prediction.flatten()\n",
    "        target_f = target.flatten()\n",
    "        \n",
    "        intersection = prediction_f * target_f\n",
    "        dice_coef = (2 * intersection.sum() + self.smooth) / (prediction_f.sum() + target_f.sum() + self.smooth)\n",
    "        \n",
    "        return 1 - dice_coef"
   ]
  },
  {
   "cell_type": "code",
   "execution_count": 79,
   "id": "5a7bc4e3-28ff-4010-b5d4-9bbde83ca191",
   "metadata": {
    "scrolled": true
   },
   "outputs": [
    {
     "name": "stdout",
     "output_type": "stream",
     "text": [
      "UNet(\n",
      "  (conv1): Conv2d(1, 16, kernel_size=(3, 3), stride=(1, 1), padding=(1, 1))\n",
      "  (conv2): Conv2d(16, 32, kernel_size=(3, 3), stride=(1, 1), padding=(1, 1))\n",
      "  (conv3): Conv2d(32, 64, kernel_size=(3, 3), stride=(1, 1), padding=(1, 1))\n",
      "  (conv4): Conv2d(64, 128, kernel_size=(3, 3), stride=(1, 1), padding=(1, 1))\n",
      "  (conv5): Conv2d(128, 256, kernel_size=(3, 3), stride=(1, 1), padding=(1, 1))\n",
      "  (conv1_drop): Dropout(p=0.1, inplace=False)\n",
      "  (conv2_drop): Dropout(p=0.1, inplace=False)\n",
      "  (conv3_drop): Dropout(p=0.2, inplace=False)\n",
      "  (conv4_drop): Dropout(p=0.2, inplace=False)\n",
      "  (conv5_drop): Dropout(p=0.3, inplace=False)\n",
      "  (pool): MaxPool2d(kernel_size=2, stride=2, padding=0, dilation=1, ceil_mode=False)\n",
      "  (upconv1): ConvTranspose2d(256, 128, kernel_size=(2, 2), stride=(2, 2))\n",
      "  (upconv2): ConvTranspose2d(128, 64, kernel_size=(2, 2), stride=(2, 2))\n",
      "  (upconv3): ConvTranspose2d(64, 32, kernel_size=(2, 2), stride=(2, 2))\n",
      "  (upconv4): ConvTranspose2d(32, 16, kernel_size=(2, 2), stride=(2, 2))\n",
      "  (conv6): Conv2d(256, 128, kernel_size=(3, 3), stride=(1, 1), padding=(1, 1))\n",
      "  (conv7): Conv2d(128, 64, kernel_size=(3, 3), stride=(1, 1), padding=(1, 1))\n",
      "  (conv8): Conv2d(64, 32, kernel_size=(3, 3), stride=(1, 1), padding=(1, 1))\n",
      "  (conv9): Conv2d(32, 16, kernel_size=(3, 3), stride=(1, 1), padding=(1, 1))\n",
      "  (final_conv): Conv2d(16, 1, kernel_size=(1, 1), stride=(1, 1))\n",
      ")\n"
     ]
    }
   ],
   "source": [
    "# Mmdel instantiation\n",
    "model = UNet()\n",
    "\n",
    "# Check if GPU is available and move the model to GPU if possible\n",
    "device = torch.device('cuda' if torch.cuda.is_available() else 'cpu')\n",
    "model.to(device)\n",
    "\n",
    "# Define loss and optimizer\n",
    "criterion = DiceLoss()\n",
    "optimizer = torch.optim.Adam(model.parameters(), lr=0.001)\n",
    "\n",
    "# Print model summary\n",
    "print(model)"
   ]
  },
  {
   "cell_type": "markdown",
   "id": "e7f1757d-d735-4009-894d-b9f39de76587",
   "metadata": {},
   "source": [
    "## Model training"
   ]
  },
  {
   "cell_type": "markdown",
   "id": "f473d991-3ee0-4069-84aa-618e802fa6d4",
   "metadata": {},
   "source": [
    "Train model:"
   ]
  },
  {
   "cell_type": "code",
   "execution_count": 81,
   "id": "1bd12910-b46a-45b8-a67c-e5e1e8694137",
   "metadata": {},
   "outputs": [
    {
     "name": "stdout",
     "output_type": "stream",
     "text": [
      "Epoch 1/5 started ... \n",
      "\n",
      "Epoch 1/5 end ... \n",
      "\n",
      "Loss: 0.9975298023805386\n",
      "...........................................\n",
      "Epoch 2/5 started ... \n",
      "\n"
     ]
    },
    {
     "ename": "KeyboardInterrupt",
     "evalue": "",
     "output_type": "error",
     "traceback": [
      "\u001b[0;31m---------------------------------------------------------------------------\u001b[0m",
      "\u001b[0;31mKeyboardInterrupt\u001b[0m                         Traceback (most recent call last)",
      "Cell \u001b[0;32mIn [81], line 17\u001b[0m\n\u001b[1;32m     15\u001b[0m optimizer\u001b[38;5;241m.\u001b[39mzero_grad() \n\u001b[1;32m     16\u001b[0m \u001b[38;5;66;03m# print(images[0])\u001b[39;00m\n\u001b[0;32m---> 17\u001b[0m outputs \u001b[38;5;241m=\u001b[39m \u001b[43mmodel\u001b[49m\u001b[43m(\u001b[49m\u001b[43mimages\u001b[49m\u001b[43m)\u001b[49m  \u001b[38;5;66;03m# Forward pass\u001b[39;00m\n\u001b[1;32m     18\u001b[0m loss \u001b[38;5;241m=\u001b[39m criterion(outputs, masks)  \u001b[38;5;66;03m# Calculate loss\u001b[39;00m\n\u001b[1;32m     20\u001b[0m loss\u001b[38;5;241m.\u001b[39mbackward()  \u001b[38;5;66;03m# Backward pass\u001b[39;00m\n",
      "File \u001b[0;32m/usr/lib/python3/dist-packages/torch/nn/modules/module.py:1194\u001b[0m, in \u001b[0;36mModule._call_impl\u001b[0;34m(self, *input, **kwargs)\u001b[0m\n\u001b[1;32m   1190\u001b[0m \u001b[38;5;66;03m# If we don't have any hooks, we want to skip the rest of the logic in\u001b[39;00m\n\u001b[1;32m   1191\u001b[0m \u001b[38;5;66;03m# this function, and just call forward.\u001b[39;00m\n\u001b[1;32m   1192\u001b[0m \u001b[38;5;28;01mif\u001b[39;00m \u001b[38;5;129;01mnot\u001b[39;00m (\u001b[38;5;28mself\u001b[39m\u001b[38;5;241m.\u001b[39m_backward_hooks \u001b[38;5;129;01mor\u001b[39;00m \u001b[38;5;28mself\u001b[39m\u001b[38;5;241m.\u001b[39m_forward_hooks \u001b[38;5;129;01mor\u001b[39;00m \u001b[38;5;28mself\u001b[39m\u001b[38;5;241m.\u001b[39m_forward_pre_hooks \u001b[38;5;129;01mor\u001b[39;00m _global_backward_hooks\n\u001b[1;32m   1193\u001b[0m         \u001b[38;5;129;01mor\u001b[39;00m _global_forward_hooks \u001b[38;5;129;01mor\u001b[39;00m _global_forward_pre_hooks):\n\u001b[0;32m-> 1194\u001b[0m     \u001b[38;5;28;01mreturn\u001b[39;00m \u001b[43mforward_call\u001b[49m\u001b[43m(\u001b[49m\u001b[38;5;241;43m*\u001b[39;49m\u001b[38;5;28;43minput\u001b[39;49m\u001b[43m,\u001b[49m\u001b[43m \u001b[49m\u001b[38;5;241;43m*\u001b[39;49m\u001b[38;5;241;43m*\u001b[39;49m\u001b[43mkwargs\u001b[49m\u001b[43m)\u001b[49m\n\u001b[1;32m   1195\u001b[0m \u001b[38;5;66;03m# Do not call functions when jit is used\u001b[39;00m\n\u001b[1;32m   1196\u001b[0m full_backward_hooks, non_full_backward_hooks \u001b[38;5;241m=\u001b[39m [], []\n",
      "Cell \u001b[0;32mIn [69], line 62\u001b[0m, in \u001b[0;36mUNet.forward\u001b[0;34m(self, x)\u001b[0m\n\u001b[1;32m     59\u001b[0m c6 \u001b[38;5;241m=\u001b[39m \u001b[38;5;28mself\u001b[39m\u001b[38;5;241m.\u001b[39mconv4_drop(c6)    \u001b[38;5;66;03m# Apply dropout after activation\u001b[39;00m\n\u001b[1;32m     61\u001b[0m u7 \u001b[38;5;241m=\u001b[39m \u001b[38;5;28mself\u001b[39m\u001b[38;5;241m.\u001b[39mupconv2(c6)       \u001b[38;5;66;03m# Shape: [batch_size, 64, 32, 32]\u001b[39;00m\n\u001b[0;32m---> 62\u001b[0m u7 \u001b[38;5;241m=\u001b[39m \u001b[43mtorch\u001b[49m\u001b[38;5;241;43m.\u001b[39;49m\u001b[43mcat\u001b[49m\u001b[43m(\u001b[49m\u001b[43m[\u001b[49m\u001b[43mu7\u001b[49m\u001b[43m,\u001b[49m\u001b[43m \u001b[49m\u001b[43mc3\u001b[49m\u001b[43m]\u001b[49m\u001b[43m,\u001b[49m\u001b[43m \u001b[49m\u001b[43mdim\u001b[49m\u001b[38;5;241;43m=\u001b[39;49m\u001b[38;5;241;43m1\u001b[39;49m\u001b[43m)\u001b[49m \u001b[38;5;66;03m# Concatenate along channels: Shape [batch_size, 128, 32, 32]\u001b[39;00m\n\u001b[1;32m     63\u001b[0m c7 \u001b[38;5;241m=\u001b[39m F\u001b[38;5;241m.\u001b[39mrelu(\u001b[38;5;28mself\u001b[39m\u001b[38;5;241m.\u001b[39mconv7(u7)) \u001b[38;5;66;03m# Shape: [batch_size, 64, 32, 32]\u001b[39;00m\n\u001b[1;32m     64\u001b[0m c7 \u001b[38;5;241m=\u001b[39m \u001b[38;5;28mself\u001b[39m\u001b[38;5;241m.\u001b[39mconv3_drop(c7)    \u001b[38;5;66;03m# Apply dropout after activation\u001b[39;00m\n",
      "\u001b[0;31mKeyboardInterrupt\u001b[0m: "
     ]
    }
   ],
   "source": [
    "#moramo da stavimo vise epoha naravno, ali nisam imala vremena da cekam \n",
    "num_epochs =  5 #25  # Number of epochs\n",
    "\n",
    "for epoch in range(num_epochs):\n",
    "    print(f\"Epoch {epoch+1}/{num_epochs} started ... \\n\")\n",
    "    model.train()  # Set model to training mode\n",
    "    running_loss = 0.0\n",
    "    \n",
    "    for images, masks in train_loader:\n",
    "        images = images.to(device)\n",
    "        masks = masks.to(device)\n",
    "\n",
    "        # print(images[0].shape)\n",
    "        \n",
    "        optimizer.zero_grad() \n",
    "        # print(images[0])\n",
    "        outputs = model(images)  # Forward pass\n",
    "        loss = criterion(outputs, masks)  # Calculate loss\n",
    "        \n",
    "        loss.backward()  # Backward pass\n",
    "        optimizer.step()  # Update weights\n",
    "        \n",
    "        running_loss += loss.item()\n",
    "    \n",
    "    print(f\"Epoch {epoch+1}/{num_epochs} end ... \\n\")\n",
    "    print(f'Loss: {running_loss/len(train_loader)}')\n",
    "    print('...........................................')"
   ]
  },
  {
   "cell_type": "markdown",
   "id": "757174e8-aee9-47ac-9c72-b4cd2624eeca",
   "metadata": {},
   "source": [
    "Save model: "
   ]
  },
  {
   "cell_type": "code",
   "execution_count": 181,
   "id": "c687de19-4d08-4ee4-972c-b852fc1a1a06",
   "metadata": {},
   "outputs": [
    {
     "name": "stdin",
     "output_type": "stream",
     "text": [
      " model1\n"
     ]
    }
   ],
   "source": [
    "#Enter name of the model:\n",
    "model_name = input()"
   ]
  },
  {
   "cell_type": "code",
   "execution_count": 182,
   "id": "62dfe1d7-15e2-42de-a34d-65b081e059a3",
   "metadata": {},
   "outputs": [],
   "source": [
    "torch.save(model.state_dict(), 'models/'+model_name+'.pth')"
   ]
  },
  {
   "cell_type": "markdown",
   "id": "noticed-branch",
   "metadata": {},
   "source": [
    "## Model evaluation and testing"
   ]
  },
  {
   "cell_type": "markdown",
   "id": "6167a032-32b4-4f05-b528-6e78683f02c9",
   "metadata": {},
   "source": [
    "First we need to load test data:"
   ]
  },
  {
   "cell_type": "code",
   "execution_count": 184,
   "id": "201af971-fe03-45c4-9581-497a1a13883b",
   "metadata": {},
   "outputs": [],
   "source": [
    "# nasi test podaci nemaju labele koliko ja vidim pa cemo napraviti i validacioni skup, ne mora biti veliki\n",
    "# kasnije mozemo i da predvidjamo na test podacima i otprilike vimo ima imaju li smisla predvidjanja"
   ]
  },
  {
   "cell_type": "markdown",
   "id": "0103e7b6-8d8c-434f-a818-4f8ed82909cb",
   "metadata": {},
   "source": [
    "Testing:"
   ]
  },
  {
   "cell_type": "code",
   "execution_count": 185,
   "id": "surface-sleep",
   "metadata": {},
   "outputs": [],
   "source": [
    "# uradicemo nesto ovako\n",
    "# nisam stigla da pokrenem ovo jer se trenra model dugo\n",
    "\n",
    "model.eval()  # Set model to evaluation mode\n",
    "test_loss = 0.0\n",
    "with torch.no_grad():  # Disable gradient computation for testing ?\n",
    "    for images, masks in test_loader:\n",
    "        images = images.to(device)\n",
    "        masks = masks.to(device)\n",
    "        \n",
    "        outputs = model(images)  # Forward pass\n",
    "        loss = criterion(outputs, masks)  # Calculate loss\n",
    "        \n",
    "        test_loss += loss.item()\n",
    "\n",
    "    print(f'Test Loss: {test_loss/len(test_loader)}')"
   ]
  },
  {
   "cell_type": "markdown",
   "id": "5d030793-6d2a-4054-8d7c-b14ab64fcb71",
   "metadata": {},
   "source": [
    "## Result visualization"
   ]
  },
  {
   "cell_type": "code",
   "execution_count": null,
   "id": "50055048-a5ce-4a79-9f42-1908156121e5",
   "metadata": {},
   "outputs": [],
   "source": [
    "model.eval()  # Set to evaluation mode\n",
    "\n",
    "# Get a batch of test data\n",
    "images, masks = next(iter(test_loader))\n",
    "images = images.to(device)\n",
    "\n",
    "# Predict\n",
    "with torch.no_grad():\n",
    "    outputs = model(images)\n",
    "\n",
    "# # Move data back to CPU for visualization\n",
    "# images = images.cpu()\n",
    "# outputs = outputs.cpu()\n",
    "# masks = masks.cpu()\n",
    "\n",
    "# Plot the results\n",
    "for i in range(10):  # Display the first 10 images\n",
    "    plt.figure(figsize=(10, 5))\n",
    "    \n",
    "    plt.subplot(1, 3, 1)\n",
    "    plt.imshow(images[i].permute(1, 2, 0))  # Original image\n",
    "    plt.title(\"Input Image\")\n",
    "    \n",
    "    plt.subplot(1, 3, 2)\n",
    "    plt.imshow(masks[i][0], cmap='gray')  # Ground truth mask\n",
    "    plt.title(\"Ground Truth Mask\")\n",
    "    \n",
    "    plt.subplot(1, 3, 3)\n",
    "    plt.imshow(outputs[i][0], cmap='gray')  # Predicted mask\n",
    "    plt.title(\"Predicted Mask\")\n",
    "    \n",
    "    plt.show()\n"
   ]
  },
  {
   "cell_type": "markdown",
   "id": "popular-consultation",
   "metadata": {},
   "source": [
    "## References"
   ]
  },
  {
   "cell_type": "markdown",
   "id": "typical-moral",
   "metadata": {},
   "source": [
    "1. U-Net: Convolutional Networks for Biomedical Image Segmentation: Olaf Ronneberger, Philipp Fischer, and Thomas Brox - Computer Science Department and BIOSS Centre for Biological Signalling Studies, University of Freiburg, Germany"
   ]
  },
  {
   "cell_type": "code",
   "execution_count": null,
   "id": "uniform-shape",
   "metadata": {},
   "outputs": [],
   "source": []
  }
 ],
 "metadata": {
  "kernelspec": {
   "display_name": "Python 3 (ipykernel)",
   "language": "python",
   "name": "python3"
  },
  "language_info": {
   "codemirror_mode": {
    "name": "ipython",
    "version": 3
   },
   "file_extension": ".py",
   "mimetype": "text/x-python",
   "name": "python",
   "nbconvert_exporter": "python",
   "pygments_lexer": "ipython3",
   "version": "3.11.2"
  }
 },
 "nbformat": 4,
 "nbformat_minor": 5
}
