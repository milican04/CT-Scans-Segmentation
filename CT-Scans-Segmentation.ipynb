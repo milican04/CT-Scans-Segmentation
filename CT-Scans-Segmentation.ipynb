{
 "cells": [
  {
   "cell_type": "markdown",
   "id": "pleased-thanksgiving",
   "metadata": {},
   "source": [
    "# Segentation of Lung CT scans"
   ]
  },
  {
   "cell_type": "markdown",
   "id": "comparative-prospect",
   "metadata": {},
   "source": [
    "Data used in project can be downloaded via following link: http://medicaldecathlon.com/"
   ]
  },
  {
   "cell_type": "markdown",
   "id": "hindu-american",
   "metadata": {},
   "source": [
    "## Intorduction"
   ]
  },
  {
   "cell_type": "markdown",
   "id": "attempted-arrangement",
   "metadata": {},
   "source": [
    "The idea of this project is to take input data in the form of a CT scan of the lungs, create and train a model which will do their segmentation and find abnormalities if they exist."
   ]
  },
  {
   "cell_type": "markdown",
   "id": "current-synthesis",
   "metadata": {},
   "source": [
    "The typical use of convolutional neural networks is on classification tasks, where the output of an image is a single class label. In the problem that we are considering, we definitely should classify CT scans, but we also need to locate abnormalities if they exist. To do that, it is necessary to assign a label to each pixel of the CT scan. Of course, we are going to have two labels: normal and abnormal. All pixels that are classified as abnormal, together construct the abnormality of the considering lungs."
   ]
  },
  {
   "cell_type": "markdown",
   "id": "nutritional-sailing",
   "metadata": {},
   "source": [
    "The model will be a convolutional neural network based on the U-net architecture."
   ]
  },
  {
   "cell_type": "markdown",
   "id": "tamil-pledge",
   "metadata": {},
   "source": [
    "#### What is U-net architecture and why we are going to use it?"
   ]
  },
  {
   "cell_type": "markdown",
   "id": "centered-fence",
   "metadata": {},
   "source": [
    "The U-net architecture, the so-called \"fully convolutional network,\" was designed in 2015. for the segmentation of biomedical images. U-Net has been successfully used in numerous studies and clinical applications for CT scan segmentation. \n",
    "\n",
    "It has a symetric structure in the shape of the letter U, and it consists of two main parts: the contracting path (coder) and the expansive path (decoder). This symmetric design of U-Net ensures a balanced extraction and reconstruction of features, leading to more accurate segmentation, which will be very useful considering the complex lung structures."
   ]
  },
  {
   "cell_type": "markdown",
   "id": "alleged-insurance",
   "metadata": {},
   "source": [
    "# ---------------------------------------------------------------------------------------------------------------"
   ]
  },
  {
   "cell_type": "markdown",
   "id": "worthy-helmet",
   "metadata": {},
   "source": [
    "## Data Preproccessing"
   ]
  },
  {
   "cell_type": "code",
   "execution_count": 1,
   "id": "dying-government",
   "metadata": {},
   "outputs": [],
   "source": [
    "import os\n",
    "import json\n",
    "import numpy as np\n",
    "import nibabel as nib\n",
    "from matplotlib import pyplot as plt"
   ]
  },
  {
   "cell_type": "code",
   "execution_count": 2,
   "id": "b20b75c4",
   "metadata": {},
   "outputs": [],
   "source": [
    "def ct_to_slices(path):\n",
    "    data = nib.load(path).get_fdata()\n",
    "    [_, _, slices] = data.shape\n",
    "    \n",
    "    return [data[..., slice] for slice in range(slices)]"
   ]
  },
  {
   "cell_type": "code",
   "execution_count": 3,
   "id": "38cf9bb5",
   "metadata": {},
   "outputs": [],
   "source": [
    "def convert_ct_dataset_to_slices(dataset_dir, output_dir):\n",
    "    os.mkdir(output_dir)\n",
    "    \n",
    "    images_dir = os.path.join(output_dir, 'imagesTr')\n",
    "    labels_dir = os.path.join(output_dir, 'labelsTr')\n",
    "    os.mkdir(images_dir)\n",
    "    os.mkdir(labels_dir)\n",
    "    \n",
    "    image_paths = None\n",
    "    label_paths = None\n",
    "    \n",
    "    with open(os.path.join(dataset_dir, 'dataset.json'), 'r') as dataset_info:\n",
    "        data = json.load(dataset_info)\n",
    "        image_paths = [os.path.join(dataset_dir, scan['image']) for scan in data['training']]\n",
    "        label_paths = [os.path.join(dataset_dir, scan['label']) for scan in data['training']]\n",
    "        \n",
    "    for (i, path) in enumerate(image_paths):\n",
    "        for (j, slice) in enumerate(ct_to_slices(path)):\n",
    "            plt.imsave(os.path.join(images_dir, f'{i + 1}_{j + 1}.png'), slice, cmap='gray')\n",
    "    \n",
    "    for (i, path) in enumerate(label_paths):\n",
    "        for (j, slice) in enumerate(ct_to_slices(path)):\n",
    "            plt.imsave(os.path.join(labels_dir, f'{i + 1}_{j + 1}.png'), slice, cmap='gray')"
   ]
  },
  {
   "cell_type": "code",
   "execution_count": null,
   "id": "af68bc87",
   "metadata": {},
   "outputs": [],
   "source": [
    "convert_ct_dataset_to_slices('Task06_Lung', 'Task06_Lung_Sliced')"
   ]
  },
  {
   "cell_type": "markdown",
   "id": "rubber-first",
   "metadata": {},
   "source": [
    "## Model creation  and training "
   ]
  },
  {
   "cell_type": "code",
   "execution_count": null,
   "id": "removable-brunswick",
   "metadata": {},
   "outputs": [],
   "source": [
    " # TODO ..."
   ]
  },
  {
   "cell_type": "markdown",
   "id": "noticed-branch",
   "metadata": {},
   "source": [
    "## Model evaluation and testing"
   ]
  },
  {
   "cell_type": "code",
   "execution_count": null,
   "id": "surface-sleep",
   "metadata": {},
   "outputs": [],
   "source": [
    "# TODO ..."
   ]
  },
  {
   "cell_type": "markdown",
   "id": "popular-consultation",
   "metadata": {},
   "source": [
    "## References"
   ]
  },
  {
   "cell_type": "markdown",
   "id": "typical-moral",
   "metadata": {},
   "source": [
    "1. U-Net: Convolutional Networks for Biomedical Image Segmentation: Olaf Ronneberger, Philipp Fischer, and Thomas Brox - Computer Science Department and BIOSS Centre for Biological Signalling Studies, University of Freiburg, Germany"
   ]
  },
  {
   "cell_type": "code",
   "execution_count": null,
   "id": "uniform-shape",
   "metadata": {},
   "outputs": [],
   "source": []
  }
 ],
 "metadata": {
  "kernelspec": {
   "display_name": "Python 3 (ipykernel)",
   "language": "python",
   "name": "python3"
  },
  "language_info": {
   "codemirror_mode": {
    "name": "ipython",
    "version": 3
   },
   "file_extension": ".py",
   "mimetype": "text/x-python",
   "name": "python",
   "nbconvert_exporter": "python",
   "pygments_lexer": "ipython3",
   "version": "3.11.2"
  }
 },
 "nbformat": 4,
 "nbformat_minor": 5
}
